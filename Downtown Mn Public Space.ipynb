{
 "cells": [
  {
   "cell_type": "code",
   "execution_count": 1,
   "metadata": {
    "collapsed": false
   },
   "outputs": [
    {
     "name": "stdout",
     "output_type": "stream",
     "text": [
      "Populating the interactive namespace from numpy and matplotlib\n"
     ]
    }
   ],
   "source": [
    "import numpy as np\n",
    "import pandas as pd\n",
    "import datetime\n",
    "import matplotlib.pyplot as plt\n",
    "import scipy\n",
    "from scipy import stats\n",
    "%pylab inline\n",
    "from matplotlib import pyplot as plt\n",
    "from mpl_toolkits.mplot3d import Axes3D\n",
    "from mpl_toolkits.mplot3d import proj3d\n",
    "import statsmodels.formula.api as smf\n",
    "import sklearn\n",
    "from sklearn.cluster import KMeans\n",
    "from sklearn.metrics import silhouette_score\n",
    "import random\n",
    "#import shapefile"
   ]
  },
  {
   "cell_type": "code",
   "execution_count": 2,
   "metadata": {
    "collapsed": false
   },
   "outputs": [
    {
     "data": {
      "text/html": [
       "<div>\n",
       "<table border=\"1\" class=\"dataframe\">\n",
       "  <thead>\n",
       "    <tr style=\"text-align: right;\">\n",
       "      <th></th>\n",
       "      <th>Borough</th>\n",
       "      <th>Block</th>\n",
       "      <th>Lot</th>\n",
       "      <th>CD</th>\n",
       "      <th>CT2010</th>\n",
       "      <th>CB2010</th>\n",
       "      <th>SchoolDist</th>\n",
       "      <th>Council</th>\n",
       "      <th>ZipCode</th>\n",
       "      <th>FireComp</th>\n",
       "      <th>...</th>\n",
       "      <th>YCoord</th>\n",
       "      <th>ZoneMap</th>\n",
       "      <th>ZMCode</th>\n",
       "      <th>Sanborn</th>\n",
       "      <th>TaxMap</th>\n",
       "      <th>EDesigNum</th>\n",
       "      <th>APPBBL</th>\n",
       "      <th>APPDate</th>\n",
       "      <th>PLUTOMapID</th>\n",
       "      <th>Version</th>\n",
       "    </tr>\n",
       "  </thead>\n",
       "  <tbody>\n",
       "    <tr>\n",
       "      <th>0</th>\n",
       "      <td>MN</td>\n",
       "      <td>1</td>\n",
       "      <td>10</td>\n",
       "      <td>101</td>\n",
       "      <td>5</td>\n",
       "      <td>1018</td>\n",
       "      <td>2</td>\n",
       "      <td>1</td>\n",
       "      <td>10004</td>\n",
       "      <td>E007</td>\n",
       "      <td>...</td>\n",
       "      <td>190225</td>\n",
       "      <td>16a</td>\n",
       "      <td>Y</td>\n",
       "      <td>199 999</td>\n",
       "      <td>10101</td>\n",
       "      <td></td>\n",
       "      <td>0</td>\n",
       "      <td></td>\n",
       "      <td>1</td>\n",
       "      <td>15v1</td>\n",
       "    </tr>\n",
       "    <tr>\n",
       "      <th>1</th>\n",
       "      <td>MN</td>\n",
       "      <td>1</td>\n",
       "      <td>101</td>\n",
       "      <td>101</td>\n",
       "      <td>1</td>\n",
       "      <td>1001</td>\n",
       "      <td>2</td>\n",
       "      <td>1</td>\n",
       "      <td>10004</td>\n",
       "      <td>E007</td>\n",
       "      <td>...</td>\n",
       "      <td>190636</td>\n",
       "      <td>16a</td>\n",
       "      <td>Y</td>\n",
       "      <td>199 999</td>\n",
       "      <td>10101</td>\n",
       "      <td></td>\n",
       "      <td>0</td>\n",
       "      <td></td>\n",
       "      <td>1</td>\n",
       "      <td>15v1</td>\n",
       "    </tr>\n",
       "    <tr>\n",
       "      <th>2</th>\n",
       "      <td>MN</td>\n",
       "      <td>1</td>\n",
       "      <td>201</td>\n",
       "      <td>101</td>\n",
       "      <td>1</td>\n",
       "      <td>1000</td>\n",
       "      <td>2</td>\n",
       "      <td>1</td>\n",
       "      <td>10004</td>\n",
       "      <td>E007</td>\n",
       "      <td>...</td>\n",
       "      <td>193648</td>\n",
       "      <td>12b</td>\n",
       "      <td></td>\n",
       "      <td>199 999</td>\n",
       "      <td>10101</td>\n",
       "      <td></td>\n",
       "      <td>0</td>\n",
       "      <td></td>\n",
       "      <td>1</td>\n",
       "      <td>15v1</td>\n",
       "    </tr>\n",
       "    <tr>\n",
       "      <th>3</th>\n",
       "      <td>MN</td>\n",
       "      <td>1</td>\n",
       "      <td>301</td>\n",
       "      <td>101</td>\n",
       "      <td></td>\n",
       "      <td></td>\n",
       "      <td>2</td>\n",
       "      <td>1</td>\n",
       "      <td>10004</td>\n",
       "      <td>E007</td>\n",
       "      <td>...</td>\n",
       "      <td></td>\n",
       "      <td>12b</td>\n",
       "      <td></td>\n",
       "      <td>199 999</td>\n",
       "      <td>10101</td>\n",
       "      <td></td>\n",
       "      <td>0</td>\n",
       "      <td></td>\n",
       "      <td>4</td>\n",
       "      <td>15v1</td>\n",
       "    </tr>\n",
       "    <tr>\n",
       "      <th>4</th>\n",
       "      <td>MN</td>\n",
       "      <td>1</td>\n",
       "      <td>401</td>\n",
       "      <td>101</td>\n",
       "      <td></td>\n",
       "      <td></td>\n",
       "      <td>2</td>\n",
       "      <td>1</td>\n",
       "      <td>10004</td>\n",
       "      <td>E007</td>\n",
       "      <td>...</td>\n",
       "      <td></td>\n",
       "      <td>12b</td>\n",
       "      <td></td>\n",
       "      <td>1 99 999</td>\n",
       "      <td>10101</td>\n",
       "      <td></td>\n",
       "      <td>0</td>\n",
       "      <td></td>\n",
       "      <td>4</td>\n",
       "      <td>15v1</td>\n",
       "    </tr>\n",
       "  </tbody>\n",
       "</table>\n",
       "<p>5 rows × 83 columns</p>\n",
       "</div>"
      ],
      "text/plain": [
       "  Borough  Block  Lot   CD   CT2010 CB2010 SchoolDist Council ZipCode  \\\n",
       "0      MN      1   10  101        5   1018          2       1   10004   \n",
       "1      MN      1  101  101        1   1001          2       1   10004   \n",
       "2      MN      1  201  101        1   1000          2       1   10004   \n",
       "3      MN      1  301  101                          2       1   10004   \n",
       "4      MN      1  401  101                          2       1   10004   \n",
       "\n",
       "  FireComp   ...     YCoord ZoneMap ZMCode   Sanborn TaxMap EDesigNum APPBBL  \\\n",
       "0     E007   ...     190225     16a      Y  199 999   10101                0   \n",
       "1     E007   ...     190636     16a      Y  199 999   10101                0   \n",
       "2     E007   ...     193648     12b         199 999   10101                0   \n",
       "3     E007   ...                12b         199 999   10101                0   \n",
       "4     E007   ...                12b         1 99 999  10101                0   \n",
       "\n",
       "      APPDate PLUTOMapID Version  \n",
       "0                      1  15v1    \n",
       "1                      1  15v1    \n",
       "2                      1  15v1    \n",
       "3                      4  15v1    \n",
       "4                      4  15v1    \n",
       "\n",
       "[5 rows x 83 columns]"
      ]
     },
     "execution_count": 2,
     "metadata": {},
     "output_type": "execute_result"
    }
   ],
   "source": [
    "#Read PLUTO data of Manhattan.\n",
    "Mn = pd.read_csv('Mn.csv')\n",
    "Mn.head()"
   ]
  },
  {
   "cell_type": "code",
   "execution_count": 61,
   "metadata": {
    "collapsed": false
   },
   "outputs": [],
   "source": [
    "Mn_DT = Mn[(Mn['CD']==101) |(Mn['CD']==102)|(Mn['CD']==103)]\n",
    "Block_DT = Mn_DT['Block'].unique()"
   ]
  },
  {
   "cell_type": "code",
   "execution_count": 3,
   "metadata": {
    "collapsed": false
   },
   "outputs": [],
   "source": [
    "lot_gp = Mn.groupby(['Block','ZoneDist1']).sum()\n",
    "\n",
    "#lot_gp['LotArea'].to_csv('BlockArea.csv')"
   ]
  },
  {
   "cell_type": "code",
   "execution_count": 4,
   "metadata": {
    "collapsed": false
   },
   "outputs": [],
   "source": [
    "Total_Block_Area = Mn.groupby(['Block']).sum()\n",
    "#Total_Block_Area['LotArea'].to_csv('BlockTotalArea.csv')"
   ]
  },
  {
   "cell_type": "code",
   "execution_count": 9,
   "metadata": {
    "collapsed": false
   },
   "outputs": [
    {
     "data": {
      "text/html": [
       "<div>\n",
       "<table border=\"1\" class=\"dataframe\">\n",
       "  <thead>\n",
       "    <tr style=\"text-align: right;\">\n",
       "      <th></th>\n",
       "      <th>Block</th>\n",
       "      <th>Total_Area</th>\n",
       "    </tr>\n",
       "  </thead>\n",
       "  <tbody>\n",
       "    <tr>\n",
       "      <th>0</th>\n",
       "      <td>1</td>\n",
       "      <td>11042768</td>\n",
       "    </tr>\n",
       "    <tr>\n",
       "      <th>1</th>\n",
       "      <td>2</td>\n",
       "      <td>949542</td>\n",
       "    </tr>\n",
       "    <tr>\n",
       "      <th>2</th>\n",
       "      <td>3</td>\n",
       "      <td>1142725</td>\n",
       "    </tr>\n",
       "    <tr>\n",
       "      <th>3</th>\n",
       "      <td>4</td>\n",
       "      <td>111382</td>\n",
       "    </tr>\n",
       "    <tr>\n",
       "      <th>4</th>\n",
       "      <td>5</td>\n",
       "      <td>108046</td>\n",
       "    </tr>\n",
       "  </tbody>\n",
       "</table>\n",
       "</div>"
      ],
      "text/plain": [
       "   Block  Total_Area\n",
       "0      1    11042768\n",
       "1      2      949542\n",
       "2      3     1142725\n",
       "3      4      111382\n",
       "4      5      108046"
      ]
     },
     "execution_count": 9,
     "metadata": {},
     "output_type": "execute_result"
    }
   ],
   "source": [
    "df_1 = pd.read_csv('BlockTotalArea.csv')\n",
    "df_2 = pd.read_csv('BlockArea.csv')\n",
    "df_1.head()"
   ]
  },
  {
   "cell_type": "code",
   "execution_count": 10,
   "metadata": {
    "collapsed": false
   },
   "outputs": [
    {
     "data": {
      "text/html": [
       "<div>\n",
       "<table border=\"1\" class=\"dataframe\">\n",
       "  <thead>\n",
       "    <tr style=\"text-align: right;\">\n",
       "      <th></th>\n",
       "      <th>Block</th>\n",
       "      <th>Total_Area</th>\n",
       "      <th>Park_Area</th>\n",
       "    </tr>\n",
       "  </thead>\n",
       "  <tbody>\n",
       "    <tr>\n",
       "      <th>0</th>\n",
       "      <td>1</td>\n",
       "      <td>11042768</td>\n",
       "      <td>0</td>\n",
       "    </tr>\n",
       "    <tr>\n",
       "      <th>1</th>\n",
       "      <td>2</td>\n",
       "      <td>949542</td>\n",
       "      <td>0</td>\n",
       "    </tr>\n",
       "    <tr>\n",
       "      <th>2</th>\n",
       "      <td>3</td>\n",
       "      <td>1142725</td>\n",
       "      <td>0</td>\n",
       "    </tr>\n",
       "    <tr>\n",
       "      <th>3</th>\n",
       "      <td>4</td>\n",
       "      <td>111382</td>\n",
       "      <td>0</td>\n",
       "    </tr>\n",
       "    <tr>\n",
       "      <th>4</th>\n",
       "      <td>5</td>\n",
       "      <td>108046</td>\n",
       "      <td>0</td>\n",
       "    </tr>\n",
       "  </tbody>\n",
       "</table>\n",
       "</div>"
      ],
      "text/plain": [
       "   Block  Total_Area  Park_Area\n",
       "0      1    11042768          0\n",
       "1      2      949542          0\n",
       "2      3     1142725          0\n",
       "3      4      111382          0\n",
       "4      5      108046          0"
      ]
     },
     "execution_count": 10,
     "metadata": {},
     "output_type": "execute_result"
    }
   ],
   "source": [
    "df_1['Park_Area'] = 0\n",
    "df_1.head()"
   ]
  },
  {
   "cell_type": "code",
   "execution_count": 11,
   "metadata": {
    "collapsed": false
   },
   "outputs": [
    {
     "data": {
      "text/html": [
       "<div>\n",
       "<table border=\"1\" class=\"dataframe\">\n",
       "  <thead>\n",
       "    <tr style=\"text-align: right;\">\n",
       "      <th></th>\n",
       "      <th>Block</th>\n",
       "      <th>Zoning</th>\n",
       "      <th>Park_Area</th>\n",
       "    </tr>\n",
       "  </thead>\n",
       "  <tbody>\n",
       "    <tr>\n",
       "      <th>5</th>\n",
       "      <td>3</td>\n",
       "      <td>PARK</td>\n",
       "      <td>1018925</td>\n",
       "    </tr>\n",
       "    <tr>\n",
       "      <th>8</th>\n",
       "      <td>6</td>\n",
       "      <td>PARK</td>\n",
       "      <td>35166</td>\n",
       "    </tr>\n",
       "    <tr>\n",
       "      <th>16</th>\n",
       "      <td>12</td>\n",
       "      <td>PARK</td>\n",
       "      <td>22500</td>\n",
       "    </tr>\n",
       "    <tr>\n",
       "      <th>34</th>\n",
       "      <td>28</td>\n",
       "      <td>PARK</td>\n",
       "      <td>5075</td>\n",
       "    </tr>\n",
       "    <tr>\n",
       "      <th>107</th>\n",
       "      <td>107</td>\n",
       "      <td>PARK</td>\n",
       "      <td>8165</td>\n",
       "    </tr>\n",
       "  </tbody>\n",
       "</table>\n",
       "</div>"
      ],
      "text/plain": [
       "     Block     Zoning  Park_Area\n",
       "5        3  PARK         1018925\n",
       "8        6  PARK           35166\n",
       "16      12  PARK           22500\n",
       "34      28  PARK            5075\n",
       "107    107  PARK            8165"
      ]
     },
     "execution_count": 11,
     "metadata": {},
     "output_type": "execute_result"
    }
   ],
   "source": [
    "df_park = df_2[df_2['Zoning']=='PARK     ']\n",
    "df_park.columns = [['Block','Zoning','Park_Area']]\n",
    "df_park.head()"
   ]
  },
  {
   "cell_type": "code",
   "execution_count": 12,
   "metadata": {
    "collapsed": false
   },
   "outputs": [
    {
     "data": {
      "text/html": [
       "<div>\n",
       "<table border=\"1\" class=\"dataframe\">\n",
       "  <thead>\n",
       "    <tr style=\"text-align: right;\">\n",
       "      <th></th>\n",
       "      <th>Block</th>\n",
       "      <th>Total_Area</th>\n",
       "      <th>Park_Area_y</th>\n",
       "    </tr>\n",
       "  </thead>\n",
       "  <tbody>\n",
       "    <tr>\n",
       "      <th>0</th>\n",
       "      <td>1</td>\n",
       "      <td>11042768</td>\n",
       "      <td>NaN</td>\n",
       "    </tr>\n",
       "    <tr>\n",
       "      <th>1</th>\n",
       "      <td>2</td>\n",
       "      <td>949542</td>\n",
       "      <td>NaN</td>\n",
       "    </tr>\n",
       "    <tr>\n",
       "      <th>2</th>\n",
       "      <td>3</td>\n",
       "      <td>1142725</td>\n",
       "      <td>1018925</td>\n",
       "    </tr>\n",
       "    <tr>\n",
       "      <th>3</th>\n",
       "      <td>4</td>\n",
       "      <td>111382</td>\n",
       "      <td>NaN</td>\n",
       "    </tr>\n",
       "    <tr>\n",
       "      <th>4</th>\n",
       "      <td>5</td>\n",
       "      <td>108046</td>\n",
       "      <td>NaN</td>\n",
       "    </tr>\n",
       "  </tbody>\n",
       "</table>\n",
       "</div>"
      ],
      "text/plain": [
       "   Block  Total_Area  Park_Area_y\n",
       "0      1    11042768          NaN\n",
       "1      2      949542          NaN\n",
       "2      3     1142725      1018925\n",
       "3      4      111382          NaN\n",
       "4      5      108046          NaN"
      ]
     },
     "execution_count": 12,
     "metadata": {},
     "output_type": "execute_result"
    }
   ],
   "source": [
    "data = pd.merge(df_1, df_park, on='Block', how='outer')\n",
    "data = data[['Block','Total_Area','Park_Area_y']]\n",
    "data.head()"
   ]
  },
  {
   "cell_type": "code",
   "execution_count": 14,
   "metadata": {
    "collapsed": false
   },
   "outputs": [
    {
     "data": {
      "text/plain": [
       "1964"
      ]
     },
     "execution_count": 14,
     "metadata": {},
     "output_type": "execute_result"
    }
   ],
   "source": [
    "len(data)"
   ]
  },
  {
   "cell_type": "code",
   "execution_count": 15,
   "metadata": {
    "collapsed": false
   },
   "outputs": [
    {
     "data": {
      "text/html": [
       "<div>\n",
       "<table border=\"1\" class=\"dataframe\">\n",
       "  <thead>\n",
       "    <tr style=\"text-align: right;\">\n",
       "      <th></th>\n",
       "      <th>Block</th>\n",
       "      <th>Total_Area</th>\n",
       "      <th>Park_Area</th>\n",
       "      <th>park_ratio</th>\n",
       "    </tr>\n",
       "  </thead>\n",
       "  <tbody>\n",
       "    <tr>\n",
       "      <th>0</th>\n",
       "      <td>1</td>\n",
       "      <td>11042768</td>\n",
       "      <td>0</td>\n",
       "      <td>0.000000</td>\n",
       "    </tr>\n",
       "    <tr>\n",
       "      <th>1</th>\n",
       "      <td>2</td>\n",
       "      <td>949542</td>\n",
       "      <td>0</td>\n",
       "      <td>0.000000</td>\n",
       "    </tr>\n",
       "    <tr>\n",
       "      <th>2</th>\n",
       "      <td>3</td>\n",
       "      <td>1142725</td>\n",
       "      <td>1018925</td>\n",
       "      <td>89.166247</td>\n",
       "    </tr>\n",
       "    <tr>\n",
       "      <th>3</th>\n",
       "      <td>4</td>\n",
       "      <td>111382</td>\n",
       "      <td>0</td>\n",
       "      <td>0.000000</td>\n",
       "    </tr>\n",
       "    <tr>\n",
       "      <th>4</th>\n",
       "      <td>5</td>\n",
       "      <td>108046</td>\n",
       "      <td>0</td>\n",
       "      <td>0.000000</td>\n",
       "    </tr>\n",
       "  </tbody>\n",
       "</table>\n",
       "</div>"
      ],
      "text/plain": [
       "   Block  Total_Area  Park_Area  park_ratio\n",
       "0      1    11042768          0    0.000000\n",
       "1      2      949542          0    0.000000\n",
       "2      3     1142725    1018925   89.166247\n",
       "3      4      111382          0    0.000000\n",
       "4      5      108046          0    0.000000"
      ]
     },
     "execution_count": 15,
     "metadata": {},
     "output_type": "execute_result"
    }
   ],
   "source": [
    "data.columns = [['Block','Total_Area','Park_Area']]\n",
    "data = data.fillna(value = 0)\n",
    "data['park_ratio'] = (data.Park_Area/data.Total_Area)*100\n",
    "data.head()"
   ]
  },
  {
   "cell_type": "code",
   "execution_count": 16,
   "metadata": {
    "collapsed": true
   },
   "outputs": [],
   "source": [
    "data2 = data[data.Park_Area > 0]"
   ]
  },
  {
   "cell_type": "code",
   "execution_count": 17,
   "metadata": {
    "collapsed": false
   },
   "outputs": [
    {
     "data": {
      "text/plain": [
       "<matplotlib.text.Text at 0x111255210>"
      ]
     },
     "execution_count": 17,
     "metadata": {},
     "output_type": "execute_result"
    },
    {
     "data": {
      "image/png": "[encoded data removed]",
      "text/plain": [
       "<matplotlib.figure.Figure at 0x1098b9cd0>"
      ]
     },
     "metadata": {},
     "output_type": "display_data"
    }
   ],
   "source": [
    "plt.figure(figsize=(6, 4))\n",
    "plt.scatter(data2.Block,data2.Park_Area,alpha = .5, s = 20)\n",
    "plt.xlabel('Block Number', fontsize = 12)\n",
    "plt.ylabel('Park Area', fontsize = 12)\n",
    "plt.title('Park Area by Block', fontsize = 16)"
   ]
  },
  {
   "cell_type": "code",
   "execution_count": 18,
   "metadata": {
    "collapsed": false
   },
   "outputs": [
    {
     "data": {
      "text/plain": [
       "(0.93893897435410967, -204431.79611967353)"
      ]
     },
     "execution_count": 18,
     "metadata": {},
     "output_type": "execute_result"
    }
   ],
   "source": [
    "import statsmodels.api as sm\n",
    "y = data2.Park_Area\n",
    "x = data2.Total_Area\n",
    "X = sm.add_constant(x)\n",
    "#print X\n",
    "model = sm.OLS(y, X, missing='drop') # ignores entires where x or y is NaN\n",
    "fit = model.fit()\n",
    "fit.params[1], fit.params[0] # could also return stderr in each via fit.bse"
   ]
  },
  {
   "cell_type": "code",
   "execution_count": 19,
   "metadata": {
    "collapsed": false
   },
   "outputs": [
    {
     "data": {
      "image/png": "[encoded data removed]",
      "text/plain": [
       "<matplotlib.figure.Figure at 0x1119f3090>"
      ]
     },
     "metadata": {},
     "output_type": "display_data"
    }
   ],
   "source": [
    "#fit and plots here\n",
    "plt.figure(figsize=(6, 4))\n",
    "xlabel('Block Area')\n",
    "ylabel('Park Area')\n",
    "plt.title('Total Block Area vs. Total Park Area by Block')\n",
    "plt.scatter(x, y, alpha=.5, s=20, color = 'g')\n",
    "plt.plot(x, fit.params[1]*x + fit.params[0], '-', color = 'r', alpha = .3)\n",
    "plt.show()"
   ]
  },
  {
   "cell_type": "code",
   "execution_count": 20,
   "metadata": {
    "collapsed": false
   },
   "outputs": [],
   "source": [
    "#data.to_csv('Park_Area_Block.csv')"
   ]
  },
  {
   "cell_type": "code",
   "execution_count": 62,
   "metadata": {
    "collapsed": false
   },
   "outputs": [
    {
     "data": {
      "text/html": [
       "<div>\n",
       "<table border=\"1\" class=\"dataframe\">\n",
       "  <thead>\n",
       "    <tr style=\"text-align: right;\">\n",
       "      <th></th>\n",
       "      <th>Block</th>\n",
       "      <th>Total_Area</th>\n",
       "      <th>Park_Area</th>\n",
       "      <th>park_ratio</th>\n",
       "    </tr>\n",
       "  </thead>\n",
       "  <tbody>\n",
       "    <tr>\n",
       "      <th>0</th>\n",
       "      <td>1</td>\n",
       "      <td>11042768</td>\n",
       "      <td>0</td>\n",
       "      <td>0.000000</td>\n",
       "    </tr>\n",
       "    <tr>\n",
       "      <th>1</th>\n",
       "      <td>2</td>\n",
       "      <td>949542</td>\n",
       "      <td>0</td>\n",
       "      <td>0.000000</td>\n",
       "    </tr>\n",
       "    <tr>\n",
       "      <th>2</th>\n",
       "      <td>3</td>\n",
       "      <td>1142725</td>\n",
       "      <td>1018925</td>\n",
       "      <td>89.166247</td>\n",
       "    </tr>\n",
       "    <tr>\n",
       "      <th>3</th>\n",
       "      <td>4</td>\n",
       "      <td>111382</td>\n",
       "      <td>0</td>\n",
       "      <td>0.000000</td>\n",
       "    </tr>\n",
       "    <tr>\n",
       "      <th>4</th>\n",
       "      <td>5</td>\n",
       "      <td>108046</td>\n",
       "      <td>0</td>\n",
       "      <td>0.000000</td>\n",
       "    </tr>\n",
       "  </tbody>\n",
       "</table>\n",
       "</div>"
      ],
      "text/plain": [
       "   Block  Total_Area  Park_Area  park_ratio\n",
       "0      1    11042768          0    0.000000\n",
       "1      2      949542          0    0.000000\n",
       "2      3     1142725    1018925   89.166247\n",
       "3      4      111382          0    0.000000\n",
       "4      5      108046          0    0.000000"
      ]
     },
     "execution_count": 62,
     "metadata": {},
     "output_type": "execute_result"
    }
   ],
   "source": [
    "Park= pd.read_csv('Park_Area_Block.csv')\n",
    "Park = Park[['Block','Total_Area','Park_Area','park_ratio']]\n",
    "#Park = Park[Park['Park_Area']>0]\n",
    "Park_DT = Park\n",
    "Park.head()"
   ]
  },
  {
   "cell_type": "code",
   "execution_count": 91,
   "metadata": {
    "collapsed": false
   },
   "outputs": [],
   "source": [
    "Block_DT = Block_DT.astype(int).tolist()"
   ]
  },
  {
   "cell_type": "code",
   "execution_count": 94,
   "metadata": {
    "collapsed": false
   },
   "outputs": [
    {
     "ename": "KeyError",
     "evalue": "1",
     "output_type": "error",
     "traceback": [
      "\u001b[0;31m---------------------------------------------------------------------------\u001b[0m",
      "\u001b[0;31mKeyError\u001b[0m                                  Traceback (most recent call last)",
      "\u001b[0;32m<ipython-input-94-4621770977fd>\u001b[0m in \u001b[0;36m<module>\u001b[0;34m()\u001b[0m\n\u001b[1;32m      1\u001b[0m \u001b[0;32mfor\u001b[0m \u001b[0mi\u001b[0m \u001b[0;32min\u001b[0m \u001b[0mBlock_DT\u001b[0m\u001b[0;34m:\u001b[0m\u001b[0;34m\u001b[0m\u001b[0m\n\u001b[0;32m----> 2\u001b[0;31m     \u001b[0mDT_Park\u001b[0m\u001b[0;34m[\u001b[0m\u001b[0mi\u001b[0m\u001b[0;34m]\u001b[0m \u001b[0;34m=\u001b[0m \u001b[0mPark\u001b[0m\u001b[0;34m[\u001b[0m\u001b[0mi\u001b[0m\u001b[0;34m]\u001b[0m\u001b[0;34m\u001b[0m\u001b[0m\n\u001b[0m",
      "\u001b[0;32m/Users/ericlaibuffalo/anaconda/lib/python2.7/site-packages/pandas/core/frame.pyc\u001b[0m in \u001b[0;36m__getitem__\u001b[0;34m(self, key)\u001b[0m\n\u001b[1;32m   1795\u001b[0m             \u001b[0;32mreturn\u001b[0m \u001b[0mself\u001b[0m\u001b[0;34m.\u001b[0m\u001b[0m_getitem_multilevel\u001b[0m\u001b[0;34m(\u001b[0m\u001b[0mkey\u001b[0m\u001b[0;34m)\u001b[0m\u001b[0;34m\u001b[0m\u001b[0m\n\u001b[1;32m   1796\u001b[0m         \u001b[0;32melse\u001b[0m\u001b[0;34m:\u001b[0m\u001b[0;34m\u001b[0m\u001b[0m\n\u001b[0;32m-> 1797\u001b[0;31m             \u001b[0;32mreturn\u001b[0m \u001b[0mself\u001b[0m\u001b[0;34m.\u001b[0m\u001b[0m_getitem_column\u001b[0m\u001b[0;34m(\u001b[0m\u001b[0mkey\u001b[0m\u001b[0;34m)\u001b[0m\u001b[0;34m\u001b[0m\u001b[0m\n\u001b[0m\u001b[1;32m   1798\u001b[0m \u001b[0;34m\u001b[0m\u001b[0m\n\u001b[1;32m   1799\u001b[0m     \u001b[0;32mdef\u001b[0m \u001b[0m_getitem_column\u001b[0m\u001b[0;34m(\u001b[0m\u001b[0mself\u001b[0m\u001b[0;34m,\u001b[0m \u001b[0mkey\u001b[0m\u001b[0;34m)\u001b[0m\u001b[0;34m:\u001b[0m\u001b[0;34m\u001b[0m\u001b[0m\n",
      "\u001b[0;32m/Users/ericlaibuffalo/anaconda/lib/python2.7/site-packages/pandas/core/frame.pyc\u001b[0m in \u001b[0;36m_getitem_column\u001b[0;34m(self, key)\u001b[0m\n\u001b[1;32m   1802\u001b[0m         \u001b[0;31m# get column\u001b[0m\u001b[0;34m\u001b[0m\u001b[0;34m\u001b[0m\u001b[0m\n\u001b[1;32m   1803\u001b[0m         \u001b[0;32mif\u001b[0m \u001b[0mself\u001b[0m\u001b[0;34m.\u001b[0m\u001b[0mcolumns\u001b[0m\u001b[0;34m.\u001b[0m\u001b[0mis_unique\u001b[0m\u001b[0;34m:\u001b[0m\u001b[0;34m\u001b[0m\u001b[0m\n\u001b[0;32m-> 1804\u001b[0;31m             \u001b[0;32mreturn\u001b[0m \u001b[0mself\u001b[0m\u001b[0;34m.\u001b[0m\u001b[0m_get_item_cache\u001b[0m\u001b[0;34m(\u001b[0m\u001b[0mkey\u001b[0m\u001b[0;34m)\u001b[0m\u001b[0;34m\u001b[0m\u001b[0m\n\u001b[0m\u001b[1;32m   1805\u001b[0m \u001b[0;34m\u001b[0m\u001b[0m\n\u001b[1;32m   1806\u001b[0m         \u001b[0;31m# duplicate columns & possible reduce dimensionaility\u001b[0m\u001b[0;34m\u001b[0m\u001b[0;34m\u001b[0m\u001b[0m\n",
      "\u001b[0;32m/Users/ericlaibuffalo/anaconda/lib/python2.7/site-packages/pandas/core/generic.pyc\u001b[0m in \u001b[0;36m_get_item_cache\u001b[0;34m(self, item)\u001b[0m\n\u001b[1;32m   1082\u001b[0m         \u001b[0mres\u001b[0m \u001b[0;34m=\u001b[0m \u001b[0mcache\u001b[0m\u001b[0;34m.\u001b[0m\u001b[0mget\u001b[0m\u001b[0;34m(\u001b[0m\u001b[0mitem\u001b[0m\u001b[0;34m)\u001b[0m\u001b[0;34m\u001b[0m\u001b[0m\n\u001b[1;32m   1083\u001b[0m         \u001b[0;32mif\u001b[0m \u001b[0mres\u001b[0m \u001b[0;32mis\u001b[0m \u001b[0mNone\u001b[0m\u001b[0;34m:\u001b[0m\u001b[0;34m\u001b[0m\u001b[0m\n\u001b[0;32m-> 1084\u001b[0;31m             \u001b[0mvalues\u001b[0m \u001b[0;34m=\u001b[0m \u001b[0mself\u001b[0m\u001b[0;34m.\u001b[0m\u001b[0m_data\u001b[0m\u001b[0;34m.\u001b[0m\u001b[0mget\u001b[0m\u001b[0;34m(\u001b[0m\u001b[0mitem\u001b[0m\u001b[0;34m)\u001b[0m\u001b[0;34m\u001b[0m\u001b[0m\n\u001b[0m\u001b[1;32m   1085\u001b[0m             \u001b[0mres\u001b[0m \u001b[0;34m=\u001b[0m \u001b[0mself\u001b[0m\u001b[0;34m.\u001b[0m\u001b[0m_box_item_values\u001b[0m\u001b[0;34m(\u001b[0m\u001b[0mitem\u001b[0m\u001b[0;34m,\u001b[0m \u001b[0mvalues\u001b[0m\u001b[0;34m)\u001b[0m\u001b[0;34m\u001b[0m\u001b[0m\n\u001b[1;32m   1086\u001b[0m             \u001b[0mcache\u001b[0m\u001b[0;34m[\u001b[0m\u001b[0mitem\u001b[0m\u001b[0;34m]\u001b[0m \u001b[0;34m=\u001b[0m \u001b[0mres\u001b[0m\u001b[0;34m\u001b[0m\u001b[0m\n",
      "\u001b[0;32m/Users/ericlaibuffalo/anaconda/lib/python2.7/site-packages/pandas/core/internals.pyc\u001b[0m in \u001b[0;36mget\u001b[0;34m(self, item, fastpath)\u001b[0m\n\u001b[1;32m   2849\u001b[0m \u001b[0;34m\u001b[0m\u001b[0m\n\u001b[1;32m   2850\u001b[0m             \u001b[0;32mif\u001b[0m \u001b[0;32mnot\u001b[0m \u001b[0misnull\u001b[0m\u001b[0;34m(\u001b[0m\u001b[0mitem\u001b[0m\u001b[0;34m)\u001b[0m\u001b[0;34m:\u001b[0m\u001b[0;34m\u001b[0m\u001b[0m\n\u001b[0;32m-> 2851\u001b[0;31m                 \u001b[0mloc\u001b[0m \u001b[0;34m=\u001b[0m \u001b[0mself\u001b[0m\u001b[0;34m.\u001b[0m\u001b[0mitems\u001b[0m\u001b[0;34m.\u001b[0m\u001b[0mget_loc\u001b[0m\u001b[0;34m(\u001b[0m\u001b[0mitem\u001b[0m\u001b[0;34m)\u001b[0m\u001b[0;34m\u001b[0m\u001b[0m\n\u001b[0m\u001b[1;32m   2852\u001b[0m             \u001b[0;32melse\u001b[0m\u001b[0;34m:\u001b[0m\u001b[0;34m\u001b[0m\u001b[0m\n\u001b[1;32m   2853\u001b[0m                 \u001b[0mindexer\u001b[0m \u001b[0;34m=\u001b[0m \u001b[0mnp\u001b[0m\u001b[0;34m.\u001b[0m\u001b[0marange\u001b[0m\u001b[0;34m(\u001b[0m\u001b[0mlen\u001b[0m\u001b[0;34m(\u001b[0m\u001b[0mself\u001b[0m\u001b[0;34m.\u001b[0m\u001b[0mitems\u001b[0m\u001b[0;34m)\u001b[0m\u001b[0;34m)\u001b[0m\u001b[0;34m[\u001b[0m\u001b[0misnull\u001b[0m\u001b[0;34m(\u001b[0m\u001b[0mself\u001b[0m\u001b[0;34m.\u001b[0m\u001b[0mitems\u001b[0m\u001b[0;34m)\u001b[0m\u001b[0;34m]\u001b[0m\u001b[0;34m\u001b[0m\u001b[0m\n",
      "\u001b[0;32m/Users/ericlaibuffalo/anaconda/lib/python2.7/site-packages/pandas/core/index.pyc\u001b[0m in \u001b[0;36mget_loc\u001b[0;34m(self, key, method)\u001b[0m\n\u001b[1;32m   1570\u001b[0m         \"\"\"\n\u001b[1;32m   1571\u001b[0m         \u001b[0;32mif\u001b[0m \u001b[0mmethod\u001b[0m \u001b[0;32mis\u001b[0m \u001b[0mNone\u001b[0m\u001b[0;34m:\u001b[0m\u001b[0;34m\u001b[0m\u001b[0m\n\u001b[0;32m-> 1572\u001b[0;31m             \u001b[0;32mreturn\u001b[0m \u001b[0mself\u001b[0m\u001b[0;34m.\u001b[0m\u001b[0m_engine\u001b[0m\u001b[0;34m.\u001b[0m\u001b[0mget_loc\u001b[0m\u001b[0;34m(\u001b[0m\u001b[0m_values_from_object\u001b[0m\u001b[0;34m(\u001b[0m\u001b[0mkey\u001b[0m\u001b[0;34m)\u001b[0m\u001b[0;34m)\u001b[0m\u001b[0;34m\u001b[0m\u001b[0m\n\u001b[0m\u001b[1;32m   1573\u001b[0m \u001b[0;34m\u001b[0m\u001b[0m\n\u001b[1;32m   1574\u001b[0m         \u001b[0mindexer\u001b[0m \u001b[0;34m=\u001b[0m \u001b[0mself\u001b[0m\u001b[0;34m.\u001b[0m\u001b[0mget_indexer\u001b[0m\u001b[0;34m(\u001b[0m\u001b[0;34m[\u001b[0m\u001b[0mkey\u001b[0m\u001b[0;34m]\u001b[0m\u001b[0;34m,\u001b[0m \u001b[0mmethod\u001b[0m\u001b[0;34m=\u001b[0m\u001b[0mmethod\u001b[0m\u001b[0;34m)\u001b[0m\u001b[0;34m\u001b[0m\u001b[0m\n",
      "\u001b[0;32mpandas/index.pyx\u001b[0m in \u001b[0;36mpandas.index.IndexEngine.get_loc (pandas/index.c:3824)\u001b[0;34m()\u001b[0m\n",
      "\u001b[0;32mpandas/index.pyx\u001b[0m in \u001b[0;36mpandas.index.IndexEngine.get_loc (pandas/index.c:3704)\u001b[0;34m()\u001b[0m\n",
      "\u001b[0;32mpandas/hashtable.pyx\u001b[0m in \u001b[0;36mpandas.hashtable.PyObjectHashTable.get_item (pandas/hashtable.c:12280)\u001b[0;34m()\u001b[0m\n",
      "\u001b[0;32mpandas/hashtable.pyx\u001b[0m in \u001b[0;36mpandas.hashtable.PyObjectHashTable.get_item (pandas/hashtable.c:12231)\u001b[0;34m()\u001b[0m\n",
      "\u001b[0;31mKeyError\u001b[0m: 1"
     ]
    }
   ],
   "source": [
    "for i in Block_DT:\n",
    "    DT_Park[i] = Park[i]"
   ]
  },
  {
   "cell_type": "code",
   "execution_count": 56,
   "metadata": {
    "collapsed": false
   },
   "outputs": [
    {
     "data": {
      "image/png": "[encoded data removed]",
      "text/plain": [
       "<matplotlib.figure.Figure at 0x1163a8310>"
      ]
     },
     "metadata": {},
     "output_type": "display_data"
    }
   ],
   "source": [
    "#fit and plots here\n",
    "x = log(Park.Total_Area)\n",
    "y = log(Park.Park_Area)\n",
    "plt.figure(figsize=(6, 4))\n",
    "xlabel('Block Area')\n",
    "ylabel('Park Area')\n",
    "plt.title('Total Block Area vs. Total Park Area by Block')\n",
    "plt.scatter(x, y, alpha=.5, s=20, color = 'g')\n",
    "#plt.plot(x, fit.params[1]*x + fit.params[0], '-', color = 'r', alpha = .3)\n",
    "plt.show()"
   ]
  },
  {
   "cell_type": "code",
   "execution_count": null,
   "metadata": {
    "collapsed": true
   },
   "outputs": [],
   "source": []
  },
  {
   "cell_type": "code",
   "execution_count": 50,
   "metadata": {
    "collapsed": false
   },
   "outputs": [
    {
     "data": {
      "text/plain": [
       "36590000.0"
      ]
     },
     "execution_count": 50,
     "metadata": {},
     "output_type": "execute_result"
    }
   ],
   "source": [
    "max (Park['Park_Area'])"
   ]
  },
  {
   "cell_type": "code",
   "execution_count": 22,
   "metadata": {
    "collapsed": false
   },
   "outputs": [],
   "source": [
    "#Subset Downtown Manhattan data.\n",
    "#DM: Downtown Manhattan, Community District as 101, 102, 103.\n",
    "\n",
    "DM = Mn [(Mn.CD==101)|(Mn.CD==102)|(Mn.CD==103)] "
   ]
  },
  {
   "cell_type": "code",
   "execution_count": 23,
   "metadata": {
    "collapsed": false
   },
   "outputs": [
    {
     "name": "stdout",
     "output_type": "stream",
     "text": [
      "The number of lot in Manhattan Borough is 43231.\n",
      "The number of lot in Downtown Manhattan (Community District 101, 102, 103) is 10564.\n"
     ]
    }
   ],
   "source": [
    "print \"The number of lot in Manhattan Borough is {0}.\".format(len (Mn)) \n",
    "print \"The number of lot in Downtown Manhattan (Community District 101, 102, 103) is {0}.\".format(len (DM)) "
   ]
  },
  {
   "cell_type": "code",
   "execution_count": 24,
   "metadata": {
    "collapsed": false
   },
   "outputs": [
    {
     "data": {
      "text/plain": [
       "Index([u'Borough', u'Block', u'Lot', u'CD', u'CT2010', u'CB2010',\n",
       "       u'SchoolDist', u'Council', u'ZipCode', u'FireComp', u'PolicePrct',\n",
       "       u'HealthArea', u'Address', u'ZoneDist1', u'ZoneDist2', u'ZoneDist3',\n",
       "       u'ZoneDist4', u'Overlay1', u'Overlay2', u'SPDist1', u'SPDist2',\n",
       "       u'LtdHeight', u'AllZoning1', u'AllZoning2', u'SplitZone', u'BldgClass',\n",
       "       u'LandUse', u'Easements', u'OwnerType', u'OwnerName', u'LotArea',\n",
       "       u'BldgArea', u'ComArea', u'ResArea', u'OfficeArea', u'RetailArea',\n",
       "       u'GarageArea', u'StrgeArea', u'FactryArea', u'OtherArea', u'AreaSource',\n",
       "       u'NumBldgs', u'NumFloors', u'UnitsRes', u'UnitsTotal', u'LotFront',\n",
       "       u'LotDepth', u'BldgFront', u'BldgDepth', u'Ext', u'ProxCode',\n",
       "       u'IrrLotCode', u'LotType', u'BsmtCode', u'AssessLand', u'AssessTot',\n",
       "       u'ExemptLand', u'ExemptTot', u'YearBuilt', u'BuiltCode', u'YearAlter1',\n",
       "       u'YearAlter2', u'HistDist', u'Landmark', u'BuiltFAR', u'ResidFAR',\n",
       "       u'CommFAR', u'FacilFAR', u'BoroCode', u'BBL', u'CondoNo', u'Tract2010',\n",
       "       u'XCoord', u'YCoord', u'ZoneMap', u'ZMCode', u'Sanborn', u'TaxMap',\n",
       "       u'EDesigNum', u'APPBBL', u'APPDate', u'PLUTOMapID', u'Version'],\n",
       "      dtype='object')"
      ]
     },
     "execution_count": 24,
     "metadata": {},
     "output_type": "execute_result"
    }
   ],
   "source": [
    "DM.columns"
   ]
  },
  {
   "cell_type": "code",
   "execution_count": 25,
   "metadata": {
    "collapsed": false
   },
   "outputs": [
    {
     "name": "stdout",
     "output_type": "stream",
     "text": [
      "LandUse\n",
      "       5651828\n",
      "1      1093737\n",
      "10     1187100\n",
      "11     3705761\n",
      "2      5443458\n",
      "3     13887805\n",
      "4     17535549\n",
      "5     13640060\n",
      "6      1812135\n",
      "7     10192062\n",
      "8     16103890\n",
      "9      7721201\n",
      "Name: LotArea, dtype: float64\n"
     ]
    }
   ],
   "source": [
    "#Now we group lot data by land use types, land use '9' is coded as 'Open Space & Outdoor Recreation'.\n",
    "LotArea_LandUse = DM.groupby('LandUse').sum().LotArea\n",
    "print LotArea_LandUse"
   ]
  },
  {
   "cell_type": "code",
   "execution_count": 26,
   "metadata": {
    "collapsed": false
   },
   "outputs": [
    {
     "data": {
      "text/plain": [
       "120"
      ]
     },
     "execution_count": 26,
     "metadata": {},
     "output_type": "execute_result"
    }
   ],
   "source": [
    "#Subset Open Space.\n",
    "DM_Open = DM [DM.LandUse=='9']\n",
    "len (DM_Open)"
   ]
  },
  {
   "cell_type": "code",
   "execution_count": 27,
   "metadata": {
    "collapsed": false
   },
   "outputs": [
    {
     "name": "stdout",
     "output_type": "stream",
     "text": [
      "Total lot area in Downtown Manhattan is 97974586.0 square feet.\n",
      "Open space lot area in Downtown Manhattan is 7721201.0 square feet.\n"
     ]
    }
   ],
   "source": [
    "#Calculate total lot area of all lots and open space, get the total area of 'Non Open Space'.\n",
    "Mn_LotArea = sum (DM.LotArea)\n",
    "OpenArea = sum (DM_Open.LotArea)\n",
    "Non_OpenArea = Mn_LotArea - OpenArea \n",
    "print \"Total lot area in Downtown Manhattan is {0} square feet.\".format(Mn_LotArea) \n",
    "print \"Open space lot area in Downtown Manhattan is {0} square feet.\".format(OpenArea) \n",
    "#print \"Open space ratio in Downtown Manhattan is {0}%.\".format((ParkArea/Mn_LotArea)*100 )"
   ]
  },
  {
   "cell_type": "code",
   "execution_count": 28,
   "metadata": {
    "collapsed": false
   },
   "outputs": [
    {
     "name": "stdout",
     "output_type": "stream",
     "text": [
      "Therefore,\n",
      "Total land area in Downtown Manhattan is: 117582822 square feet.\n",
      "Total non open space lot area in Downtown Manhattan is: 90253385.0 square feet.\n",
      "Open space area in Downtown Manhattan is: 27329437.0 square feet.\n",
      "\n",
      "Open space area ratio in Downtown Manhattan is: 23.2427122731%.\n"
     ]
    }
   ],
   "source": [
    "#Now we calculate total Land Area of Downtown Manhattan.\n",
    "CD101 = 32979565\n",
    "CD102 = 37720826\n",
    "CD103 = 46882431\n",
    "Mn_LandArea = CD101+CD102+CD103\n",
    "print \"Therefore,\"\n",
    "print \"Total land area in Downtown Manhattan is: {0} square feet.\".format(Mn_LandArea) \n",
    "print \"Total non open space lot area in Downtown Manhattan is: {0} square feet.\".format(Non_OpenArea) \n",
    "print \"Open space area in Downtown Manhattan is: {0} square feet.\".format(Mn_LandArea-Non_OpenArea) \n",
    "print \n",
    "print \"Open space area ratio in Downtown Manhattan is: {0}%.\".format((Mn_LandArea-Non_OpenArea)/Mn_LandArea*100) "
   ]
  },
  {
   "cell_type": "code",
   "execution_count": 29,
   "metadata": {
    "collapsed": false
   },
   "outputs": [
    {
     "name": "stdout",
     "output_type": "stream",
     "text": [
      "All unique Zoning Code in Manhattan:\n",
      "['R3-2     ' 'ZNA      ' 'M1-4     ' 'C4-6     ' 'PARK     ' 'C5-5     '\n",
      " '         ' 'C6-4     ' 'BPC      ' 'M2-3     ' 'C6-9     ' 'C5-3     '\n",
      " 'R8       ' 'C6-2A    ' 'R7-2     ' 'C6-3     ' 'C6-3A    ' 'C6-4A    '\n",
      " 'C6-1     ' 'C6-1G    ' 'M1-5     ' 'C6-2G    ' 'M1-5B    ' 'M1-6     '\n",
      " 'M1-5A    ' 'C2-8     ' 'C8-4     ' 'C6-2     ' 'R7A      ' 'R8A      '\n",
      " 'C4-4A    ' 'M3-2     ' 'R8B      ' 'C1-6A    ' 'R7B      ' 'R8X      '\n",
      " 'C1-7A    ' 'C1-9A    ' 'R6       ' 'C1-7     ' 'C2-6     ' 'R10      '\n",
      " 'C4-5     ' 'C6-3X    ' 'C1-6     ' 'C6-2M    ' 'C6-4M    ' 'M2-4     '\n",
      " 'M1-5/R7X ' 'C2-7     ' 'R6A      ' 'C6-5     ' 'C6-6     ' 'C6-7     '\n",
      " 'C2-6A    ' 'C2-7A    ' 'M1-6D    ' 'C6-4X    ' 'C6-4.5   ' 'C5-2     '\n",
      " 'M1-5M    ' 'R9X      ' 'C5-2.5   ' 'R9A      ' 'C2-8A    ' 'C4-5A    '\n",
      " 'C1-9     ' 'C1-8A    ' 'R9       ' 'C1-8     ' 'M1-1     ' 'C6-7T    '\n",
      " 'C6-5.5   ' 'C6-6.5   ' 'C5-1     ' 'R10H     ' 'C4-7     ' 'R10A     '\n",
      " 'C4-6A    ' 'C4-2F    ' 'C5-P     ' 'C1-8X    ' 'C5-1A    ' 'C4-5X    '\n",
      " 'C4-4D    ' 'R7X      ' 'C4-4     ' 'M2-2     ' 'C8-3     ' 'M1-2     '\n",
      " 'M3-1     ' 'M1-5/R7-2' 'R7D      ' 'M2-1     ' 'R7-1     ' 'R5       '\n",
      " nan]\n"
     ]
    }
   ],
   "source": [
    "#We can also use Zoning code 'Park' to subset public space.\n",
    "print 'All unique Zoning Code in Manhattan:'\n",
    "print Mn.ZoneDist1.unique()"
   ]
  },
  {
   "cell_type": "code",
   "execution_count": 30,
   "metadata": {
    "collapsed": false,
    "scrolled": true
   },
   "outputs": [
    {
     "data": {
      "text/plain": [
       "269"
      ]
     },
     "execution_count": 30,
     "metadata": {},
     "output_type": "execute_result"
    }
   ],
   "source": [
    "#Subset lot defined by zoning code 'Park':\n",
    "Mn_Park = Mn[Mn.ZoneDist1 =='PARK     ']\n",
    "len (Mn_Park)"
   ]
  },
  {
   "cell_type": "code",
   "execution_count": 31,
   "metadata": {
    "collapsed": false
   },
   "outputs": [
    {
     "name": "stdout",
     "output_type": "stream",
     "text": [
      "Total lot area in Downtown Manhattan is 97974586.0 square feet.\n",
      "Park lot area in Downtown Manhattan is 118032766.0 square feet.\n",
      "Park lot area ratio in Downtown Manhattan is 120.472839763%.\n"
     ]
    }
   ],
   "source": [
    "ParkArea = sum (Mn_Park.LotArea)\n",
    "print \"Total lot area in Downtown Manhattan is {0} square feet.\".format(Mn_LotArea) \n",
    "print \"Park lot area in Downtown Manhattan is {0} square feet.\".format(ParkArea) \n",
    "print \"Park lot area ratio in Downtown Manhattan is {0}%.\".format((ParkArea/Mn_LotArea)*100 )"
   ]
  },
  {
   "cell_type": "code",
   "execution_count": 32,
   "metadata": {
    "collapsed": false
   },
   "outputs": [
    {
     "name": "stdout",
     "output_type": "stream",
     "text": [
      "The largest park lot in Downtown Manhattan is 36590000.0 square feet, which is 37.3464196113% of total land area.\n"
     ]
    }
   ],
   "source": [
    "#This is incorrect since the park area is bigger than total lot area! \n",
    "#Therefore we are suspicious about if there is any incorrect data, \n",
    "#especially some lot with worng, extremly large lot area.\n",
    "\n",
    "print \"The largest park lot in Downtown Manhattan is {0} square feet, which is {1}% of total land area.\".format(max (Mn_Park.LotArea), (max (Mn_Park.LotArea)/Mn_LotArea)*100)"
   ]
  },
  {
   "cell_type": "markdown",
   "metadata": {},
   "source": [
    "__Conclusion:__ Based on common kownledge, we know there is no one lot park area as 37% of total land area in Downtown Manhattan."
   ]
  },
  {
   "cell_type": "code",
   "execution_count": null,
   "metadata": {
    "collapsed": true
   },
   "outputs": [],
   "source": []
  }
 ],
 "metadata": {
  "kernelspec": {
   "display_name": "Python 2",
   "language": "python",
   "name": "python2"
  },
  "language_info": {
   "codemirror_mode": {
    "name": "ipython",
    "version": 2
   },
   "file_extension": ".py",
   "mimetype": "text/x-python",
   "name": "python",
   "nbconvert_exporter": "python",
   "pygments_lexer": "ipython2",
   "version": "2.7.10"
  }
 },
 "nbformat": 4,
 "nbformat_minor": 0
}
